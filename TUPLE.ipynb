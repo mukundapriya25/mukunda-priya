{
  "metadata": {
    "kernelspec": {
      "name": "python",
      "display_name": "Python (Pyodide)",
      "language": "python"
    },
    "language_info": {
      "codemirror_mode": {
        "name": "python",
        "version": 3
      },
      "file_extension": ".py",
      "mimetype": "text/x-python",
      "name": "python",
      "nbconvert_exporter": "python",
      "pygments_lexer": "ipython3",
      "version": "3.8"
    }
  },
  "nbformat_minor": 4,
  "nbformat": 4,
  "cells": [
    {
      "cell_type": "code",
      "source": "x=(\"apple\",\"banana\",\"cherry\")\ny=(\"orange\",)\nx+=y\n\nprint(x)",
      "metadata": {
        "trusted": true
      },
      "outputs": [
        {
          "name": "stdout",
          "text": "('apple', 'banana', 'cherry', 'orange')\n",
          "output_type": "stream"
        }
      ],
      "execution_count": 1
    },
    {
      "cell_type": "code",
      "source": "thistuple=(\"apple\",\"banana\",\"cherry\")\ny=list(thistuple)\ny.remove(\"banana\")\nthistuple=tuple(y)\n\nprint(thistuple)\n",
      "metadata": {
        "trusted": true
      },
      "outputs": [
        {
          "name": "stdout",
          "text": "('apple', 'cherry')\n",
          "output_type": "stream"
        }
      ],
      "execution_count": 3
    },
    {
      "cell_type": "code",
      "source": "fruits=(\"apple\",\"banana\",\"cherry\")\n(green,yellow,red)=fruits\n\nprint(green)\nprint(yellow)\nprint(red)",
      "metadata": {
        "trusted": true
      },
      "outputs": [
        {
          "name": "stdout",
          "text": "apple\nbanana\ncherry\n",
          "output_type": "stream"
        }
      ],
      "execution_count": 4
    },
    {
      "cell_type": "code",
      "source": "fruits=(\"apple\",\"banana\",\"cherry\",\"strwberry\",\"raspberry\")\n(green,yellow,*red)=fruits\n\nprint(green)\nprint(yellow)\nprint(red)\nprint(type(red))",
      "metadata": {
        "trusted": true
      },
      "outputs": [
        {
          "name": "stdout",
          "text": "apple\nbanana\n['cherry', 'strwberry', 'raspberry']\n<class 'list'>\n",
          "output_type": "stream"
        }
      ],
      "execution_count": 5
    },
    {
      "cell_type": "code",
      "source": "fruits=(\"apple\",\"mango\",\"papaya\",\"pineapple\",\"cherry\")\n(green,*tropic,red)=fruits\n\nprint(green)\nprint(tropic)\nprint(red)",
      "metadata": {
        "trusted": true
      },
      "outputs": [
        {
          "name": "stdout",
          "text": "apple\n['mango', 'papaya', 'pineapple']\ncherry\n",
          "output_type": "stream"
        }
      ],
      "execution_count": 6
    },
    {
      "cell_type": "code",
      "source": "thistuple=(\"apple\",\"banana\",\"cherry\")\nfor i in range(len(thistuple)):\n    print(thistuple[i])",
      "metadata": {
        "trusted": true
      },
      "outputs": [
        {
          "name": "stdout",
          "text": "apple\nbanana\ncherry\n",
          "output_type": "stream"
        }
      ],
      "execution_count": 9
    },
    {
      "cell_type": "code",
      "source": "thistuple=(\"apple\",\"banana\",\"cherry\")\nfor x in thistuple:\n    print(x)",
      "metadata": {
        "trusted": true
      },
      "outputs": [
        {
          "name": "stdout",
          "text": "apple\nbanana\ncherry\n",
          "output_type": "stream"
        }
      ],
      "execution_count": 10
    },
    {
      "cell_type": "code",
      "source": "tuple1=(\"a\",\"b\",\"c\")\ntuple2=(1,2,3)\ntuple3=tuple1+tuple2\nprint(tuple3)",
      "metadata": {
        "trusted": true
      },
      "outputs": [
        {
          "name": "stdout",
          "text": "('a', 'b', 'c', 1, 2, 3)\n",
          "output_type": "stream"
        }
      ],
      "execution_count": 11
    },
    {
      "cell_type": "code",
      "source": "fruits=(\"apple\",\"banana\",\"cherry\")\nmytuple=fruits*3\nprint(mytuple)",
      "metadata": {
        "trusted": true
      },
      "outputs": [
        {
          "name": "stdout",
          "text": "('apple', 'banana', 'cherry', 'apple', 'banana', 'cherry', 'apple', 'banana', 'cherry')\n",
          "output_type": "stream"
        }
      ],
      "execution_count": 12
    },
    {
      "cell_type": "code",
      "source": "myset={\"apple\",\"banana\",\"cherry\"}\nprint(myset)",
      "metadata": {
        "trusted": true
      },
      "outputs": [
        {
          "name": "stdout",
          "text": "{'apple', 'banana', 'cherry'}\n",
          "output_type": "stream"
        }
      ],
      "execution_count": 13
    },
    {
      "cell_type": "code",
      "source": "myset={\"apple\",\"banana\",\"cherry\"}\nmyset",
      "metadata": {
        "trusted": true
      },
      "outputs": [
        {
          "execution_count": 14,
          "output_type": "execute_result",
          "data": {
            "text/plain": "{'apple', 'banana', 'cherry'}"
          },
          "metadata": {}
        }
      ],
      "execution_count": 14
    },
    {
      "cell_type": "code",
      "source": "myset={\"apple\",\"banana\",\"cherry\",\"apple\"}\nprint(myset)",
      "metadata": {
        "trusted": true
      },
      "outputs": [
        {
          "name": "stdout",
          "text": "{'apple', 'banana', 'cherry'}\n",
          "output_type": "stream"
        }
      ],
      "execution_count": 15
    },
    {
      "cell_type": "code",
      "source": "myset={\"apple\",\"banana\",\"cherry\",1,True,1,2}\nprint(myset)",
      "metadata": {
        "trusted": true
      },
      "outputs": [
        {
          "name": "stdout",
          "text": "{1, 'apple', 2, 'banana', 'cherry'}\n",
          "output_type": "stream"
        }
      ],
      "execution_count": 16
    },
    {
      "cell_type": "code",
      "source": "myset={\"apple\",\"banana\",\"cherry\"}\nprint(len(myset))",
      "metadata": {
        "trusted": true
      },
      "outputs": [
        {
          "name": "stdout",
          "text": "3\n",
          "output_type": "stream"
        }
      ],
      "execution_count": 17
    },
    {
      "cell_type": "code",
      "source": "myset=set((\"apple\",\"banana\",\"cherry\"))\nprint(myset)",
      "metadata": {
        "trusted": true
      },
      "outputs": [
        {
          "name": "stdout",
          "text": "{'apple', 'banana', 'cherry'}\n",
          "output_type": "stream"
        }
      ],
      "execution_count": 18
    },
    {
      "cell_type": "code",
      "source": "myset={\"apple\",\"banana\",\"cherry\"}\nfor x in myset:\n    print(x)",
      "metadata": {
        "trusted": true
      },
      "outputs": [
        {
          "name": "stdout",
          "text": "apple\nbanana\ncherry\n",
          "output_type": "stream"
        }
      ],
      "execution_count": 22
    },
    {
      "cell_type": "code",
      "source": "",
      "metadata": {
        "trusted": true
      },
      "outputs": [],
      "execution_count": null
    }
  ]
}