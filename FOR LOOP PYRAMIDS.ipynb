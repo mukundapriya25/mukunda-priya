{
  "metadata": {
    "kernelspec": {
      "name": "python",
      "display_name": "Python (Pyodide)",
      "language": "python"
    },
    "language_info": {
      "codemirror_mode": {
        "name": "python",
        "version": 3
      },
      "file_extension": ".py",
      "mimetype": "text/x-python",
      "name": "python",
      "nbconvert_exporter": "python",
      "pygments_lexer": "ipython3",
      "version": "3.8"
    }
  },
  "nbformat_minor": 4,
  "nbformat": 4,
  "cells": [
    {
      "cell_type": "code",
      "source": "height=5\nfor i in range(1,height+1):\n    for j in range(height-i):\n        print(\" \",end=\" \")\n    for k in range(2*i-1):\n        print('*',end=\" \")\n    print()",
      "metadata": {
        "trusted": true
      },
      "outputs": [
        {
          "name": "stdout",
          "text": "        * \n      * * * \n    * * * * * \n  * * * * * * * \n* * * * * * * * * \n",
          "output_type": "stream"
        }
      ],
      "execution_count": 1
    },
    {
      "cell_type": "code",
      "source": "height=5\nfor i in range(height,0,-1):\n    for j in range(height-i):\n        print(\" \",end=\" \")\n    for k in range(2*i-1):\n        print('*',end=\" \")\n    print()",
      "metadata": {
        "trusted": true
      },
      "outputs": [
        {
          "name": "stdout",
          "text": "* * * * * * * * * \n  * * * * * * * \n    * * * * * \n      * * * \n        * \n",
          "output_type": "stream"
        }
      ],
      "execution_count": 4
    },
    {
      "cell_type": "code",
      "source": "height=5\nfor i in range(height, 0, -1):\n    for j in range(height - i):\n        print(\" \", end=\"\")\n    for k in range(2 * i - 1):\n        print(\"*\", end=\"\") \n    print()",
      "metadata": {
        "trusted": true
      },
      "outputs": [
        {
          "name": "stdout",
          "text": "*********\n *******\n  *****\n   ***\n    *\n",
          "output_type": "stream"
        }
      ],
      "execution_count": 3
    },
    {
      "cell_type": "code",
      "source": "height=5\nfor i in range(1,height+1):\n    for j in range(i):\n        print('*',end=\" \")\n    print()",
      "metadata": {
        "trusted": true
      },
      "outputs": [
        {
          "name": "stdout",
          "text": "* \n* * \n* * * \n* * * * \n* * * * * \n",
          "output_type": "stream"
        }
      ],
      "execution_count": 6
    },
    {
      "cell_type": "code",
      "source": "height=5\nfor i in range(1,height+1):\n    for j in range(height-i):\n        print(\" \",end=\" \")\n    for k in range(i):\n        print('*',end=\" \")\n    print()",
      "metadata": {
        "trusted": true
      },
      "outputs": [
        {
          "name": "stdout",
          "text": "        * \n      * * \n    * * * \n  * * * * \n* * * * * \n",
          "output_type": "stream"
        }
      ],
      "execution_count": 7
    },
    {
      "cell_type": "code",
      "source": "size=5\nfor i in range(size):\n    for j in range(size):\n        print('*',end=\" \")\n    print()",
      "metadata": {
        "trusted": true
      },
      "outputs": [
        {
          "name": "stdout",
          "text": "* * * * * \n* * * * * \n* * * * * \n* * * * * \n* * * * * \n",
          "output_type": "stream"
        }
      ],
      "execution_count": 8
    },
    {
      "cell_type": "code",
      "source": "rows=3\ncols=5\nfor i in range(rows):\n    for j in range(cols):\n        print('*',end=\" \")\n    print()",
      "metadata": {
        "trusted": true
      },
      "outputs": [
        {
          "name": "stdout",
          "text": "* * * * * \n* * * * * \n* * * * * \n",
          "output_type": "stream"
        }
      ],
      "execution_count": 10
    },
    {
      "cell_type": "code",
      "source": "size=5\nfor i in range(size):\n    for j in range(size-i):\n        print(' ',end=\" \")\n    print('*'*size)",
      "metadata": {
        "trusted": true
      },
      "outputs": [
        {
          "name": "stdout",
          "text": "          *****\n        *****\n      *****\n    *****\n  *****\n",
          "output_type": "stream"
        }
      ],
      "execution_count": 14
    },
    {
      "cell_type": "code",
      "source": "height=5\nfor i in range(height,0,-1):\n    for j in range(height):\n        print(\" \",end=\" \")\n    for k in range(1,height+1):\n        print(k,end=\" \")\n    print()",
      "metadata": {
        "trusted": true
      },
      "outputs": [
        {
          "name": "stdout",
          "text": "          1 2 3 4 5 \n          1 2 3 4 5 \n          1 2 3 4 5 \n          1 2 3 4 5 \n          1 2 3 4 5 \n",
          "output_type": "stream"
        }
      ],
      "execution_count": 19
    },
    {
      "cell_type": "code",
      "source": "row=5\nfor i in range(1,rows+1):\n    print(' '*(rows-i),end=\"\")\n    for j in range(1,i+1):\n        print(j,end=\"\")\n    print()",
      "metadata": {
        "trusted": true
      },
      "outputs": [
        {
          "name": "stdout",
          "text": "  1\n 12\n123\n",
          "output_type": "stream"
        }
      ],
      "execution_count": 21
    },
    {
      "cell_type": "code",
      "source": "row=6\nfor i in range(1,row+1):\n    for j in range(i):\n        print(i,end=\" \")\n    print()",
      "metadata": {
        "trusted": true
      },
      "outputs": [
        {
          "name": "stdout",
          "text": "1 \n2 2 \n3 3 3 \n4 4 4 4 \n5 5 5 5 5 \n6 6 6 6 6 6 \n",
          "output_type": "stream"
        }
      ],
      "execution_count": 24
    },
    {
      "cell_type": "code",
      "source": "row=6\nb=0\nfor i in range(row,0,-1):\n    b=b+1\n    for j in range(1,i+1):\n        print(b,end=\" \")\n    print()",
      "metadata": {
        "trusted": true
      },
      "outputs": [
        {
          "name": "stdout",
          "text": "1 1 1 1 1 1 \n2 2 2 2 2 \n3 3 3 3 \n4 4 4 \n5 5 \n6 \n",
          "output_type": "stream"
        }
      ],
      "execution_count": 25
    },
    {
      "cell_type": "code",
      "source": "row=6\nfor i in range(row,0,-1):\n    for j in range(1,i+1):\n        print(i,end=\" \")\n    print()",
      "metadata": {
        "trusted": true
      },
      "outputs": [
        {
          "name": "stdout",
          "text": "6 6 6 6 6 6 \n5 5 5 5 5 \n4 4 4 4 \n3 3 3 \n2 2 \n1 \n",
          "output_type": "stream"
        }
      ],
      "execution_count": 26
    },
    {
      "cell_type": "code",
      "source": "row=6\nfor row in range(1,row+1):\n    for j in range(1,row+1):\n        print(j,end=\" \")\n    print()",
      "metadata": {
        "trusted": true
      },
      "outputs": [
        {
          "name": "stdout",
          "text": "1 \n1 2 \n1 2 3 \n1 2 3 4 \n1 2 3 4 5 \n1 2 3 4 5 6 \n",
          "output_type": "stream"
        }
      ],
      "execution_count": 29
    },
    {
      "cell_type": "code",
      "source": "row=5\nfor i in range(row,0,-1):\n    for j in range(1,i+1):\n        print('5',end=\" \")\n    print()",
      "metadata": {
        "trusted": true
      },
      "outputs": [
        {
          "name": "stdout",
          "text": "5 5 5 5 5 \n5 5 5 5 \n5 5 5 \n5 5 \n5 \n",
          "output_type": "stream"
        }
      ],
      "execution_count": 30
    },
    {
      "cell_type": "code",
      "source": "row=6\nfor i in range(1,row+1):\n    for j in range(1,i+1):\n        print(j,end=\" \")\n    print()",
      "metadata": {
        "trusted": true
      },
      "outputs": [
        {
          "name": "stdout",
          "text": "1 \n1 2 \n1 2 3 \n1 2 3 4 \n1 2 3 4 5 \n1 2 3 4 5 6 \n",
          "output_type": "stream"
        }
      ],
      "execution_count": 2
    },
    {
      "cell_type": "code",
      "source": "",
      "metadata": {
        "trusted": true
      },
      "outputs": [],
      "execution_count": null
    }
  ]
}