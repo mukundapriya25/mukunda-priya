{
  "metadata": {
    "kernelspec": {
      "name": "python",
      "display_name": "Python (Pyodide)",
      "language": "python"
    },
    "language_info": {
      "codemirror_mode": {
        "name": "python",
        "version": 3
      },
      "file_extension": ".py",
      "mimetype": "text/x-python",
      "name": "python",
      "nbconvert_exporter": "python",
      "pygments_lexer": "ipython3",
      "version": "3.8"
    }
  },
  "nbformat_minor": 4,
  "nbformat": 4,
  "cells": [
    {
      "cell_type": "code",
      "source": "def search(list,n):\n    i=0\n    while i<len(list):\n        if list[i]==n:\n            return True\n        i=i+1\n    return False\nlist=[5,6,7,8,9,2]\nn=9\nif search(list,n):\n    print(\"Found at\",pos+1)\nelse:\n    print(\"Not Found\")",
      "metadata": {
        "trusted": true
      },
      "outputs": [
        {
          "name": "stdout",
          "text": "Found at 5\n",
          "output_type": "stream"
        }
      ],
      "execution_count": 4
    },
    {
      "cell_type": "code",
      "source": "def binarysearch(array,x,low,high):\n    while low<=high:\n        mid=low+(high-low)//2\n        if x==array[mid]:\n            return mid\n        elif x>array[mid]:\n            low=mid+1\n        else:\n            high=mid-1\n    return None\narray=[2,3,4,5,6,7]\nx=5\nlow=0\nhigh=len(array)-1\nresult= binarysearch(array, x, low, high)\nif result is not None:\n    print(\"found at\")\nelse:\n    print(\"not found\")",
      "metadata": {
        "trusted": true
      },
      "outputs": [
        {
          "name": "stdout",
          "text": "found at\n",
          "output_type": "stream"
        }
      ],
      "execution_count": 14
    },
    {
      "cell_type": "code",
      "source": "def search(list,n):\n    i=0\n   fir i in range(len(list)):\n        if list[i]==n:\n            return i\n    return -1\nlist=[5,6,7,8,9,2]\nn=9\nif search(list,n):\n    print(\"Found at\",pos+1)\nelse:\n    print(\"Not Found\")",
      "metadata": {
        "trusted": true
      },
      "outputs": [
        {
          "name": "stderr",
          "text": "Traceback (most recent call last):\n  File \"/lib/python3.12/site-packages/pyodide_kernel/kernel.py\", line 90, in run\n    code = await self.lite_transform_manager.transform_cell(code)\n           ^^^^^^^^^^^^^^^^^^^^^^^^^^^^^^^^^^^^^^^^^^^^^^^^^^^^^^\n  File \"/lib/python3.12/site-packages/pyodide_kernel/litetransform.py\", line 34, in transform_cell\n    lines = await self.do_token_transforms(lines)\n            ^^^^^^^^^^^^^^^^^^^^^^^^^^^^^^^^^^^^^\n  File \"/lib/python3.12/site-packages/pyodide_kernel/litetransform.py\", line 39, in do_token_transforms\n    changed, lines = await self.do_one_token_transform(lines)\n                     ^^^^^^^^^^^^^^^^^^^^^^^^^^^^^^^^^^^^^^^^\n  File \"/lib/python3.12/site-packages/pyodide_kernel/litetransform.py\", line 59, in do_one_token_transform\n    tokens_by_line = make_tokens_by_line(lines)\n                     ^^^^^^^^^^^^^^^^^^^^^^^^^^\n  File \"/lib/python3.12/site-packages/IPython/core/inputtransformer2.py\", line 535, in make_tokens_by_line\n    for token in tokenutil.generate_tokens_catch_errors(\n  File \"/lib/python3.12/site-packages/IPython/utils/tokenutil.py\", line 40, in generate_tokens_catch_errors\n    for token in tokenize.generate_tokens(readline):\n  File \"/lib/python312.zip/tokenize.py\", line 541, in _generate_tokens_from_c_tokenizer\n    raise e from None\n  File \"/lib/python312.zip/tokenize.py\", line 537, in _generate_tokens_from_c_tokenizer\n    for info in it:\n  File \"<string>\", line 3\n    fir i in range(len(list)):\n                              ^\nIndentationError: unindent does not match any outer indentation level\n\nIf you suspect this is an IPython 8.23.0 bug, please report it at:\n    https://github.com/ipython/ipython/issues\nor send an email to the mailing list at ipython-dev@python.org\n\nYou can print a more detailed traceback right now with \"%tb\", or use \"%debug\"\nto interactively debug it.\n\nExtra-detailed tracebacks for bug-reporting purposes can be enabled via:\n    %config Application.verbose_crash=True\n\n",
          "output_type": "stream"
        }
      ],
      "execution_count": null
    },
    {
      "cell_type": "code",
      "source": "def search(list,n):\n    i=0\n    for i in range(len(list)):\n        if list[i]==n:\n            globals()['pos']=i\n            return True\n    return False\nlist=[5,6,7,8,9,2]\nn=2\nif search(list,n):\n    print(\"Found at\",pos+1)\nelse:\n    print(\"Not Found\")",
      "metadata": {
        "trusted": true
      },
      "outputs": [
        {
          "name": "stdout",
          "text": "Found at 6\n",
          "output_type": "stream"
        }
      ],
      "execution_count": 31
    },
    {
      "cell_type": "code",
      "source": "pos=-1\ndef search(list,n):\n    i=0\n    if list[i]==n:\n        globals()['pos']=i\n        return True\n    i=i+1\n    return False\nlist=[5,6,7,8,9,2]\nn=9\nif search(list,n):\n    print(\"Found at\",pos+1)\nelse:\n    print(\"Not Found\")",
      "metadata": {
        "trusted": true
      },
      "outputs": [
        {
          "name": "stdout",
          "text": "Not Found\n",
          "output_type": "stream"
        }
      ],
      "execution_count": 30
    },
    {
      "cell_type": "code",
      "source": "def binarysearch(array,x,low,high):\n    while low<=high:\n        mid=low+(high-low)//2\n        if x==array[mid]:\n            return mid\n        elif x>array[mid]:\n            low=mid+1\n        else:\n            high=mid-1\n    return None\narray=[2,3,4,5,6,7]\nx=5\nlow=0\nhigh=len(array)-1\nresult= binarysearch(array, x, low, high)\nif result is not None:\n    print(f\"found at {result}\")\nelse:\n    print(\"not found\")",
      "metadata": {
        "trusted": true
      },
      "outputs": [
        {
          "name": "stdout",
          "text": "found at 3\n",
          "output_type": "stream"
        }
      ],
      "execution_count": 18
    },
    {
      "cell_type": "code",
      "source": "def binarysearch(array, x, low, high):\n    while low <= high:\n        mid = (low+high) // 2  \n        if x == array[mid]:\n            return mid \n        elif x > array[mid]:\n            low = mid + 1  \n        else:\n            high = mid - 1 \n    return None \narray = [2, 3, 4, 5, 6, 7]\nx = 5\nlow = 0\nhigh = len(array) - 1 \nresult = binarysearch(array, x, low, high)\nif result is not None:\n    print(f\"Found at index {result}\")\nelse:\n    print(\"Not found\")",
      "metadata": {
        "trusted": true
      },
      "outputs": [
        {
          "name": "stdout",
          "text": "Found at index 3\n",
          "output_type": "stream"
        }
      ],
      "execution_count": 16
    },
    {
      "cell_type": "code",
      "source": "",
      "metadata": {
        "trusted": true
      },
      "outputs": [],
      "execution_count": null
    }
  ]
}