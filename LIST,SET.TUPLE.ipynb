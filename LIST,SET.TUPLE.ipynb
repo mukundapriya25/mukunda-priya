{
  "metadata": {
    "kernelspec": {
      "name": "python",
      "display_name": "Python (Pyodide)",
      "language": "python"
    },
    "language_info": {
      "codemirror_mode": {
        "name": "python",
        "version": 3
      },
      "file_extension": ".py",
      "mimetype": "text/x-python",
      "name": "python",
      "nbconvert_exporter": "python",
      "pygments_lexer": "ipython3",
      "version": "3.8"
    }
  },
  "nbformat_minor": 4,
  "nbformat": 4,
  "cells": [
    {
      "cell_type": "code",
      "source": "nums = [1, 2, 2, 3, 4, 4, 5]\n\n# Convert the list to a set to get unique elements and then convert it to a tuple\nunique_elements_tuple = tuple(set(nums))\n\n# Print the result\nprint(unique_elements_tuple)",
      "metadata": {
        "trusted": true
      },
      "outputs": [
        {
          "name": "stdout",
          "text": "(1, 2, 3, 4, 5)\n",
          "output_type": "stream"
        }
      ],
      "execution_count": 1
    },
    {
      "cell_type": "code",
      "source": "my_set = {1, 2, 3, 4}\nmy_tuple = (3, 4, 5, 6)\n\n# Convert the tuple to a set\nmy_tuple_set = set(my_tuple)\n\n# Find the intersection of the set and the tuple's set\ncommon_elements = my_set & my_tuple_set\n\n# Print the common elements\nprint(common_elements)",
      "metadata": {
        "trusted": true
      },
      "outputs": [
        {
          "name": "stdout",
          "text": "{3, 4}\n",
          "output_type": "stream"
        }
      ],
      "execution_count": 2
    },
    {
      "cell_type": "code",
      "source": "my_set={1, 2, 3, 4}\nmy_tuple=(3, 4, 5, 6)\nmy_tuple_set=set(my_tuple)\ncommon_elements=my_set&my_tuple_set\nprint(common_elements)",
      "metadata": {
        "trusted": true
      },
      "outputs": [
        {
          "name": "stdout",
          "text": "{3, 4}\n",
          "output_type": "stream"
        }
      ],
      "execution_count": 3
    },
    {
      "cell_type": "code",
      "source": "",
      "metadata": {
        "trusted": true
      },
      "outputs": [],
      "execution_count": null
    }
  ]
}