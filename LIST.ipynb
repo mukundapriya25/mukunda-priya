{
  "metadata": {
    "kernelspec": {
      "name": "python",
      "display_name": "Python (Pyodide)",
      "language": "python"
    },
    "language_info": {
      "codemirror_mode": {
        "name": "python",
        "version": 3
      },
      "file_extension": ".py",
      "mimetype": "text/x-python",
      "name": "python",
      "nbconvert_exporter": "python",
      "pygments_lexer": "ipython3",
      "version": "3.8"
    }
  },
  "nbformat_minor": 4,
  "nbformat": 4,
  "cells": [
    {
      "cell_type": "code",
      "source": "my_list = [1, 2, 3]\nmy_list.append(4)\nprint(my_list)",
      "metadata": {
        "trusted": true
      },
      "outputs": [
        {
          "name": "stdout",
          "text": "[1, 2, 3, 4]\n",
          "output_type": "stream"
        }
      ],
      "execution_count": 1
    },
    {
      "cell_type": "code",
      "source": "my_list = [1, 2, 3]\nmy_list[len(my_list):] = [4]\nprint(my_list) ",
      "metadata": {
        "trusted": true
      },
      "outputs": [
        {
          "name": "stdout",
          "text": "[1, 2, 3, 4]\n",
          "output_type": "stream"
        }
      ],
      "execution_count": 2
    },
    {
      "cell_type": "code",
      "source": "my_list = [1, 2, 3]\nmy_list = my_list + [4]\nprint(my_list) ",
      "metadata": {
        "trusted": true
      },
      "outputs": [
        {
          "name": "stdout",
          "text": "[1, 2, 3, 4]\n",
          "output_type": "stream"
        }
      ],
      "execution_count": 3
    },
    {
      "cell_type": "code",
      "source": "my_list = [1, 2, 3]\nitem_to_add = 4\nfor _ in range(1):\n    my_list += [item_to_add]  \nprint(my_list) ",
      "metadata": {
        "trusted": true
      },
      "outputs": [
        {
          "name": "stdout",
          "text": "[1, 2, 3, 4]\n",
          "output_type": "stream"
        }
      ],
      "execution_count": 4
    },
    {
      "cell_type": "code",
      "source": "my_list = [1, 2, 3]\nitem_to_add = 4\nindex = len(my_list)\nmy_list[index:index] = [item_to_add] \nprint(my_list)",
      "metadata": {
        "trusted": true
      },
      "outputs": [
        {
          "name": "stdout",
          "text": "[1, 2, 3, 4]\n",
          "output_type": "stream"
        }
      ],
      "execution_count": 5
    },
    {
      "cell_type": "code",
      "source": "\n1. list.append()\nPurpose: Adds a single item to the end of the list.\nHow it works: The argument passed to append() is added as a single element (even if it's an iterable like a list, tuple, etc.).\n\nExample:\nmy_list = [1, 2, 3]\nmy_list.append(4) \nprint(my_list) \n\nmy_list.append([5, 6])  \nprint(my_list)  ",
      "metadata": {
        "trusted": true
      },
      "outputs": [
        {
          "ename": "<class 'SyntaxError'>",
          "evalue": "unterminated string literal (detected at line 3) (<ipython-input-3-b4d69146bc00>, line 3)",
          "traceback": [
            "\u001b[0;36m  Cell \u001b[0;32mIn[3], line 3\u001b[0;36m\u001b[0m\n\u001b[0;31m    How it works: The argument passed to append() is added as a single element (even if it's an iterable like a list, tuple, etc.).\u001b[0m\n\u001b[0m                                                                                          ^\u001b[0m\n\u001b[0;31mSyntaxError\u001b[0m\u001b[0;31m:\u001b[0m unterminated string literal (detected at line 3)\n"
          ],
          "output_type": "error"
        }
      ],
      "execution_count": 3
    },
    {
      "cell_type": "code",
      "source": "my_list = [1, 2, 3]\nmy_list.append(4) \nprint(my_list) \n\nmy_list.append([5, 6])  \nprint(my_list)  ",
      "metadata": {
        "trusted": true
      },
      "outputs": [
        {
          "name": "stdout",
          "text": "[1, 2, 3, 4]\n[1, 2, 3, 4, [5, 6]]\n",
          "output_type": "stream"
        }
      ],
      "execution_count": 5
    },
    {
      "cell_type": "code",
      "source": "2. list.extend()\nPurpose: Adds all elements of an iterable (list, tuple, set, string, etc.) to the end of the list.\nHow it works: The argument passed to extend() should be an iterable, and each element of the iterable is added individually to the list.\n\n    \nExample:\npython\nCopy code\nmy_list = [1, 2, 3]\nmy_list.extend([4, 5])\nprint(my_list)\nmy_list.extend((6, 7))  \nprint(my_list) \nmy_list.extend(\"hello\")\nprint(my_list)\nKey Points for extend():",
      "metadata": {
        "trusted": true
      },
      "outputs": [],
      "execution_count": null
    },
    {
      "cell_type": "code",
      "source": "my_list = [1, 2, 3]\nmy_list.extend([4, 5])\nprint(my_list)\nmy_list.extend((6, 7))  \nprint(my_list) \nmy_list.extend(\"hello\")\nprint(my_list)",
      "metadata": {
        "trusted": true
      },
      "outputs": [
        {
          "name": "stdout",
          "text": "[1, 2, 3, 4, 5]\n[1, 2, 3, 4, 5, 6, 7]\n[1, 2, 3, 4, 5, 6, 7, 'h', 'e', 'l', 'l', 'o']\n",
          "output_type": "stream"
        }
      ],
      "execution_count": 6
    },
    {
      "cell_type": "code",
      "source": "my_list = [1, 2, 3, 4, 5]\nreversed_list = my_list[::-1]\nprint(reversed_list)",
      "metadata": {
        "trusted": true
      },
      "outputs": [
        {
          "name": "stdout",
          "text": "[5, 4, 3, 2, 1]\n",
          "output_type": "stream"
        }
      ],
      "execution_count": 6
    },
    {
      "cell_type": "code",
      "source": "single_element_tuple = (5,)  \nprint(single_element_tuple)  \nprint(type(single_element_tuple))  ",
      "metadata": {
        "trusted": true
      },
      "outputs": [
        {
          "name": "stdout",
          "text": "(5,)\n<class 'tuple'>\n",
          "output_type": "stream"
        }
      ],
      "execution_count": 7
    },
    {
      "cell_type": "code",
      "source": "single_element_tuple = (5)\nprint(type(single_element_tuple))  ",
      "metadata": {
        "trusted": true
      },
      "outputs": [
        {
          "name": "stdout",
          "text": "<class 'int'>\n",
          "output_type": "stream"
        }
      ],
      "execution_count": 8
    },
    {
      "cell_type": "code",
      "source": "single_element_tuple = (5,)  \nprint(single_element_tuple)  ",
      "metadata": {
        "trusted": true
      },
      "outputs": [
        {
          "name": "stdout",
          "text": "(5,)\n",
          "output_type": "stream"
        }
      ],
      "execution_count": 7
    },
    {
      "cell_type": "code",
      "source": "single_element_tuple = (5)  \nprint(single_element_tuple)  ",
      "metadata": {
        "trusted": true
      },
      "outputs": [
        {
          "name": "stdout",
          "text": "5\n",
          "output_type": "stream"
        }
      ],
      "execution_count": 8
    },
    {
      "cell_type": "code",
      "source": "tuple=(1,2,3,4)\nlist=list(tuple)\nprint(list)",
      "metadata": {
        "trusted": true
      },
      "outputs": [
        {
          "name": "stdout",
          "text": "[1, 2, 3, 4]\n",
          "output_type": "stream"
        }
      ],
      "execution_count": 9
    },
    {
      "cell_type": "code",
      "source": "my_set={2,4,6}\na=8\nnew=my_set or {a}\nprint(new)",
      "metadata": {
        "trusted": true
      },
      "outputs": [
        {
          "name": "stdout",
          "text": "{2, 4, 6}\n",
          "output_type": "stream"
        }
      ],
      "execution_count": 13
    },
    {
      "cell_type": "code",
      "source": "my_set={2, 4, 6}\nelement_to_add=8\nmy_set |={element_to_add}\nprint(my_set)",
      "metadata": {
        "trusted": true
      },
      "outputs": [
        {
          "name": "stdout",
          "text": "{8, 2, 4, 6}\n",
          "output_type": "stream"
        }
      ],
      "execution_count": 25
    },
    {
      "cell_type": "code",
      "source": "my_set = {1, 2, 3}\nelement_to_add = 4\nmy_set |={element_to_add}\nprint(my_set)",
      "metadata": {
        "trusted": true
      },
      "outputs": [
        {
          "name": "stdout",
          "text": "{1, 2, 3, 4}\n",
          "output_type": "stream"
        }
      ],
      "execution_count": 22
    },
    {
      "cell_type": "code",
      "source": "my_set = {1, 2, 3}\nelement_to_add = 4\nmy_set = my_set and {element_to_add}\nprint(my_set)",
      "metadata": {
        "trusted": true
      },
      "outputs": [
        {
          "name": "stdout",
          "text": "{4}\n",
          "output_type": "stream"
        }
      ],
      "execution_count": 20
    },
    {
      "cell_type": "code",
      "source": "my_set={6, 7, 8}\nelement_to_add=9\nmy_set=my_set | {element_to_add}\nprint(my_set)",
      "metadata": {
        "trusted": true
      },
      "outputs": [
        {
          "name": "stdout",
          "text": "{8, 9, 6, 7}\n",
          "output_type": "stream"
        }
      ],
      "execution_count": 27
    },
    {
      "cell_type": "code",
      "source": "list=[1,2,2,3,4,4,4,5]\nmy_set=set(list)\nprint(my_set)\nmy_list=list(my_set)\nprint(my_list)",
      "metadata": {
        "trusted": true
      },
      "outputs": [
        {
          "name": "stdout",
          "text": "{1, 2, 3, 4, 5}\n",
          "output_type": "stream"
        },
        {
          "ename": "<class 'TypeError'>",
          "evalue": "'list' object is not callable",
          "traceback": [
            "\u001b[0;31m---------------------------------------------------------------------------\u001b[0m",
            "\u001b[0;31mTypeError\u001b[0m                                 Traceback (most recent call last)",
            "Cell \u001b[0;32mIn[32], line 4\u001b[0m\n\u001b[1;32m      2\u001b[0m my_set\u001b[38;5;241m=\u001b[39m\u001b[38;5;28mset\u001b[39m(\u001b[38;5;28mlist\u001b[39m)\n\u001b[1;32m      3\u001b[0m \u001b[38;5;28mprint\u001b[39m(my_set)\n\u001b[0;32m----> 4\u001b[0m my_list\u001b[38;5;241m=\u001b[39m\u001b[38;5;28;43mlist\u001b[39;49m\u001b[43m(\u001b[49m\u001b[43mmy_set\u001b[49m\u001b[43m)\u001b[49m\n\u001b[1;32m      5\u001b[0m \u001b[38;5;28mprint\u001b[39m(my_list)\n",
            "\u001b[0;31mTypeError\u001b[0m: 'list' object is not callable"
          ],
          "output_type": "error"
        }
      ],
      "execution_count": 32
    },
    {
      "cell_type": "code",
      "source": "my_list = [1, 2, 2, 3, 4, 4, 5]\nunique_set = set(my_list)\nunique_list = list(unique_set)\nprint(unique_list) ",
      "metadata": {
        "trusted": true
      },
      "outputs": [
        {
          "ename": "<class 'TypeError'>",
          "evalue": "'list' object is not callable",
          "traceback": [
            "\u001b[0;31m---------------------------------------------------------------------------\u001b[0m",
            "\u001b[0;31mTypeError\u001b[0m                                 Traceback (most recent call last)",
            "Cell \u001b[0;32mIn[33], line 3\u001b[0m\n\u001b[1;32m      1\u001b[0m my_list \u001b[38;5;241m=\u001b[39m [\u001b[38;5;241m1\u001b[39m, \u001b[38;5;241m2\u001b[39m, \u001b[38;5;241m2\u001b[39m, \u001b[38;5;241m3\u001b[39m, \u001b[38;5;241m4\u001b[39m, \u001b[38;5;241m4\u001b[39m, \u001b[38;5;241m5\u001b[39m]\n\u001b[1;32m      2\u001b[0m unique_set \u001b[38;5;241m=\u001b[39m \u001b[38;5;28mset\u001b[39m(my_list)\n\u001b[0;32m----> 3\u001b[0m unique_list \u001b[38;5;241m=\u001b[39m \u001b[38;5;28;43mlist\u001b[39;49m\u001b[43m(\u001b[49m\u001b[43munique_set\u001b[49m\u001b[43m)\u001b[49m\n\u001b[1;32m      4\u001b[0m \u001b[38;5;28mprint\u001b[39m(unique_list) \n",
            "\u001b[0;31mTypeError\u001b[0m: 'list' object is not callable"
          ],
          "output_type": "error"
        }
      ],
      "execution_count": 33
    },
    {
      "cell_type": "code",
      "source": "nums = [1, 2, 2, 3, 4, 4, 5]\n\n# Convert the list to a set to get unique elements and then convert it to a tuple\nunique_elements_tuple = tuple(set(nums))\n\n# Print the result\nprint(unique_elements_tuple)",
      "metadata": {
        "trusted": true
      },
      "outputs": [],
      "execution_count": null
    },
    {
      "cell_type": "code",
      "source": "nums = [1, 2, 2, 3, 4, 4, 5]\n\n# Convert the list to a set to get unique elements and then convert it to a tuple\nunique_elements_tuple = tuple(set(nums))\n\n# Print the result\nprint(unique_elements_tuple)",
      "metadata": {
        "trusted": true
      },
      "outputs": [],
      "execution_count": null
    },
    {
      "cell_type": "code",
      "source": "",
      "metadata": {
        "trusted": true
      },
      "outputs": [],
      "execution_count": null
    }
  ]
}