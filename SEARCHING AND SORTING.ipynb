{
  "metadata": {
    "kernelspec": {
      "name": "python",
      "display_name": "Python (Pyodide)",
      "language": "python"
    },
    "language_info": {
      "codemirror_mode": {
        "name": "python",
        "version": 3
      },
      "file_extension": ".py",
      "mimetype": "text/x-python",
      "name": "python",
      "nbconvert_exporter": "python",
      "pygments_lexer": "ipython3",
      "version": "3.8"
    }
  },
  "nbformat_minor": 4,
  "nbformat": 4,
  "cells": [
    {
      "cell_type": "code",
      "source": "def linear_search(list,n):\n    for i in range (len(list)):\n        if list[i]==n:\n            return i\n    return -1\nlist1=[3,5,6,9,8]\nn=6\npos=linear_search(list1,n)\nif pos!=-1:\n    print(f\"found at the index {pos}\")\nelse:\n    print(\"not found\")",
      "metadata": {
        "trusted": true
      },
      "outputs": [
        {
          "name": "stdout",
          "text": "found at the index 3\n",
          "output_type": "stream"
        }
      ],
      "execution_count": 13
    },
    {
      "cell_type": "code",
      "source": "def insertion_sort(arr):\n    # Traverse through elements of the array starting from the second element\n    for i in range(1, len(arr)):\n        key = arr[i]  # The element to be inserted in the sorted portion\n        j = i - 1\n        \n        # Move elements of arr[0..i-1], that are greater than key, to one position ahead\n        while j >= 0 and arr[j] > key:\n            arr[j + 1] = arr[j]\n            j -= 1\n        \n        # Insert the key at the correct position\n        arr[j + 1] = key\n        \n        # Print the array after the 3rd pass\n        if i == 2:  # This will print the array after the 3rd pass (i = 2)\n            print(\"Array after Pass 3:\", arr)\n\n# Example usage\narr = [12, 11, 13, 5, 6]\ninsertion_sort(arr)\n",
      "metadata": {
        "trusted": true
      },
      "outputs": [],
      "execution_count": null
    },
    {
      "cell_type": "code",
      "source": "def binary_search(list,n):\n    low=0\n    mid=0\n    high=len(list)-1\n    while low<=high:\n        mid=(low+high)//2\n        if list[mid]==n:\n            return mid+1\n        elif list[mid]<n:\n            low=mid+1\n        else:\n            high=mid-1\nlist1=[1,2,3,4,5,6]\nn=5\npos=binary_search(list1,n)\nif pos!=-1:\n    print(f\"found at the index {pos}\")\nelse:\n    print(\"not found\")",
      "metadata": {
        "trusted": true
      },
      "outputs": [
        {
          "name": "stdout",
          "text": "found at the index 5\n",
          "output_type": "stream"
        }
      ],
      "execution_count": 16
    },
    {
      "cell_type": "code",
      "source": "def linear_search_dict_value(d, target_value):\n    # Iterate through the values in the dictionary\n    for i in range(len(d)):\n        if value == target_value:\n            return True  # Return True if the value is found\n    return False  # Return False if the value is not found\n\n# Example usage\nmy_dict = {'a': 10, 'b': 20, 'c': 30, 'd': 40}\ntarget_value = 30\n\nif linear_search_dict_value(my_dict, target_value):\n    print(f\"Value {target_value} found in the dictionary.\")\nelse:\n    print(f\"Value {target_value} not found in the dictionary.\")\n",
      "metadata": {
        "trusted": true
      },
      "outputs": [
        {
          "ename": "<class 'NameError'>",
          "evalue": "name 'value' is not defined",
          "traceback": [
            "\u001b[0;31m---------------------------------------------------------------------------\u001b[0m",
            "\u001b[0;31mNameError\u001b[0m                                 Traceback (most recent call last)",
            "Cell \u001b[0;32mIn[19], line 12\u001b[0m\n\u001b[1;32m      9\u001b[0m my_dict \u001b[38;5;241m=\u001b[39m {\u001b[38;5;124m'\u001b[39m\u001b[38;5;124ma\u001b[39m\u001b[38;5;124m'\u001b[39m: \u001b[38;5;241m10\u001b[39m, \u001b[38;5;124m'\u001b[39m\u001b[38;5;124mb\u001b[39m\u001b[38;5;124m'\u001b[39m: \u001b[38;5;241m20\u001b[39m, \u001b[38;5;124m'\u001b[39m\u001b[38;5;124mc\u001b[39m\u001b[38;5;124m'\u001b[39m: \u001b[38;5;241m30\u001b[39m, \u001b[38;5;124m'\u001b[39m\u001b[38;5;124md\u001b[39m\u001b[38;5;124m'\u001b[39m: \u001b[38;5;241m40\u001b[39m}\n\u001b[1;32m     10\u001b[0m target_value \u001b[38;5;241m=\u001b[39m \u001b[38;5;241m30\u001b[39m\n\u001b[0;32m---> 12\u001b[0m \u001b[38;5;28;01mif\u001b[39;00m \u001b[43mlinear_search_dict_value\u001b[49m\u001b[43m(\u001b[49m\u001b[43mmy_dict\u001b[49m\u001b[43m,\u001b[49m\u001b[43m \u001b[49m\u001b[43mtarget_value\u001b[49m\u001b[43m)\u001b[49m:\n\u001b[1;32m     13\u001b[0m     \u001b[38;5;28mprint\u001b[39m(\u001b[38;5;124mf\u001b[39m\u001b[38;5;124m\"\u001b[39m\u001b[38;5;124mValue \u001b[39m\u001b[38;5;132;01m{\u001b[39;00mtarget_value\u001b[38;5;132;01m}\u001b[39;00m\u001b[38;5;124m found in the dictionary.\u001b[39m\u001b[38;5;124m\"\u001b[39m)\n\u001b[1;32m     14\u001b[0m \u001b[38;5;28;01melse\u001b[39;00m:\n",
            "Cell \u001b[0;32mIn[19], line 4\u001b[0m, in \u001b[0;36mlinear_search_dict_value\u001b[0;34m(d, target_value)\u001b[0m\n\u001b[1;32m      1\u001b[0m \u001b[38;5;28;01mdef\u001b[39;00m \u001b[38;5;21mlinear_search_dict_value\u001b[39m(d, target_value):\n\u001b[1;32m      2\u001b[0m     \u001b[38;5;66;03m# Iterate through the values in the dictionary\u001b[39;00m\n\u001b[1;32m      3\u001b[0m     \u001b[38;5;28;01mfor\u001b[39;00m i \u001b[38;5;129;01min\u001b[39;00m \u001b[38;5;28mrange\u001b[39m(\u001b[38;5;28mlen\u001b[39m(d)):\n\u001b[0;32m----> 4\u001b[0m         \u001b[38;5;28;01mif\u001b[39;00m \u001b[43mvalue\u001b[49m \u001b[38;5;241m==\u001b[39m target_value:\n\u001b[1;32m      5\u001b[0m             \u001b[38;5;28;01mreturn\u001b[39;00m \u001b[38;5;28;01mTrue\u001b[39;00m  \u001b[38;5;66;03m# Return True if the value is found\u001b[39;00m\n\u001b[1;32m      6\u001b[0m     \u001b[38;5;28;01mreturn\u001b[39;00m \u001b[38;5;28;01mFalse\u001b[39;00m\n",
            "\u001b[0;31mNameError\u001b[0m: name 'value' is not defined"
          ],
          "output_type": "error"
        }
      ],
      "execution_count": 19
    },
    {
      "cell_type": "code",
      "source": "def selection_sort(list):\n    for i in range(len(list)):\n        min=i\n        for j in range(i+1,len(list)):\n            if list[j]<list[min]:\n                min=j\n        (list[i],list[min])=(list[min],list[i])\n        if i == 1:\n            print(\"Array after 2nd pass:\", list)\n\nlist1=[5,4,6,3,7]\nselection_sort(list1)",
      "metadata": {
        "trusted": true
      },
      "outputs": [
        {
          "name": "stdout",
          "text": "Array after 2nd pass: [3, 4, 6, 5, 7]\n",
          "output_type": "stream"
        }
      ],
      "execution_count": 38
    },
    {
      "cell_type": "code",
      "source": "def insertion_sort(arr):\n    n=len(arr)\n    if n<=1:\n        return n\n    for i in range(1,n):\n        key=arr[i]\n        j=i-1\n        while j>=0 and key<arr[j]:\n            arr[j+1]=arr[j]\n            j-=1\n        arr[j+1]=key\nlist1=[5,4,6,3,7]\ninsertion_sort(list1)\nprint(list1)",
      "metadata": {
        "trusted": true
      },
      "outputs": [
        {
          "name": "stdout",
          "text": "[3, 4, 5, 6, 7]\n",
          "output_type": "stream"
        }
      ],
      "execution_count": 41
    },
    {
      "cell_type": "code",
      "source": "",
      "metadata": {
        "trusted": true
      },
      "outputs": [],
      "execution_count": null
    }
  ]
}