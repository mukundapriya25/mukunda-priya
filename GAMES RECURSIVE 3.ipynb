{
  "metadata": {
    "kernelspec": {
      "name": "python",
      "display_name": "Python (Pyodide)",
      "language": "python"
    },
    "language_info": {
      "codemirror_mode": {
        "name": "python",
        "version": 3
      },
      "file_extension": ".py",
      "mimetype": "text/x-python",
      "name": "python",
      "nbconvert_exporter": "python",
      "pygments_lexer": "ipython3",
      "version": "3.8"
    }
  },
  "nbformat_minor": 4,
  "nbformat": 4,
  "cells": [
    {
      "cell_type": "code",
      "source": "import random\n\ndef guess_the_number():\n    print(\"Welcome to 'Guess the Number'!\")\n    print(\"I'm thinking of a number between 1 and 100.\")\n    \n    target_number = random.randint(1, 100)\n    attempts = 0\n    \n    while True:\n        guess = input(\"Enter your guess: \")\n        \n        if not guess.isdigit():\n            print(\"Please enter a valid number.\")\n            continue\n        \n        guess = int(guess)\n        attempts += 1\n        \n        if guess < target_number:\n            print(\"Too low! Try again.\")\n        elif guess > target_number:\n            print(\"Too high! Try again.\")\n        else:\n            print(f\"Congratulations! You guessed the number in {attempts} attempts.\")\n            break\n\nguess_the_number()",
      "metadata": {
        "trusted": true
      },
      "outputs": [
        {
          "name": "stdout",
          "text": "Welcome to 'Guess the Number'!\nI'm thinking of a number between 1 and 100.\n",
          "output_type": "stream"
        },
        {
          "ename": "<class 'AttributeError'>",
          "evalue": "'PyodideFuture' object has no attribute 'isdigit'",
          "traceback": [
            "\u001b[0;31m---------------------------------------------------------------------------\u001b[0m",
            "\u001b[0;31mAttributeError\u001b[0m                            Traceback (most recent call last)",
            "Cell \u001b[0;32mIn[6], line 28\u001b[0m\n\u001b[1;32m     25\u001b[0m             \u001b[38;5;28mprint\u001b[39m(\u001b[38;5;124mf\u001b[39m\u001b[38;5;124m\"\u001b[39m\u001b[38;5;124mCongratulations! You guessed the number in \u001b[39m\u001b[38;5;132;01m{\u001b[39;00mattempts\u001b[38;5;132;01m}\u001b[39;00m\u001b[38;5;124m attempts.\u001b[39m\u001b[38;5;124m\"\u001b[39m)\n\u001b[1;32m     26\u001b[0m             \u001b[38;5;28;01mbreak\u001b[39;00m\n\u001b[0;32m---> 28\u001b[0m \u001b[43mguess_the_number\u001b[49m\u001b[43m(\u001b[49m\u001b[43m)\u001b[49m\n",
            "Cell \u001b[0;32mIn[6], line 13\u001b[0m, in \u001b[0;36mguess_the_number\u001b[0;34m()\u001b[0m\n\u001b[1;32m     10\u001b[0m \u001b[38;5;28;01mwhile\u001b[39;00m \u001b[38;5;28;01mTrue\u001b[39;00m:\n\u001b[1;32m     11\u001b[0m     guess \u001b[38;5;241m=\u001b[39m \u001b[38;5;28minput\u001b[39m(\u001b[38;5;124m\"\u001b[39m\u001b[38;5;124mEnter your guess: \u001b[39m\u001b[38;5;124m\"\u001b[39m)\n\u001b[0;32m---> 13\u001b[0m     \u001b[38;5;28;01mif\u001b[39;00m \u001b[38;5;129;01mnot\u001b[39;00m \u001b[43mguess\u001b[49m\u001b[38;5;241;43m.\u001b[39;49m\u001b[43misdigit\u001b[49m():\n\u001b[1;32m     14\u001b[0m         \u001b[38;5;28mprint\u001b[39m(\u001b[38;5;124m\"\u001b[39m\u001b[38;5;124mPlease enter a valid number.\u001b[39m\u001b[38;5;124m\"\u001b[39m)\n\u001b[1;32m     15\u001b[0m         \u001b[38;5;28;01mcontinue\u001b[39;00m\n",
            "\u001b[0;31mAttributeError\u001b[0m: 'PyodideFuture' object has no attribute 'isdigit'"
          ],
          "output_type": "error"
        }
      ],
      "execution_count": 6
    },
    {
      "cell_type": "code",
      "source": "import random\ndef guess_the_number():\n    print(\"Welcome to 'Guess the Number'!\")\n    print(\"I'm thinking of a number between 1 and 100.\")\ntarget_number = random.randint(1, 100)\nattempts = 0\nwhile True:\n    guess = input(\"Enter your guess: \")\n    if not guess.isdigit():\n        print(\"Please enter a valid number.\")\n    continue\n    guess = int(guess)\n    attempts += 1\n    if guess < target_number:\n        print(\"Too low! Try again.\")\n    elif guess > target_number:\n        print(\"Too high! Try again.\")\n    else:\n        print(f\"Congratulations! You guessed the number in {attempts} attempts.\")\n    break\n    guess_the_number()",
      "metadata": {
        "trusted": true
      },
      "outputs": [],
      "execution_count": null
    },
    {
      "cell_type": "code",
      "source": "",
      "metadata": {
        "trusted": true
      },
      "outputs": [],
      "execution_count": null
    }
  ]
}